{
 "cells": [
  {
   "cell_type": "code",
   "execution_count": 1,
   "metadata": {
    "_cell_guid": "b1076dfc-b9ad-4769-8c92-a6c4dae69d19",
    "_uuid": "8f2839f25d086af736a60e9eeb907d3b93b6e0e5",
    "execution": {
     "iopub.execute_input": "2021-11-16T03:46:45.871971Z",
     "iopub.status.busy": "2021-11-16T03:46:45.871011Z",
     "iopub.status.idle": "2021-11-16T03:46:45.885887Z",
     "shell.execute_reply": "2021-11-16T03:46:45.885005Z",
     "shell.execute_reply.started": "2021-11-16T03:46:45.871924Z"
    }
   },
   "outputs": [],
   "source": [
    "import pandas as pd\n",
    "import numpy as np\n",
    "import matplotlib.pyplot as plt\n",
    "from sklearn.model_selection import train_test_split\n",
    "from sklearn import linear_model\n",
    "from sklearn.linear_model import LinearRegression\n",
    "from sklearn.preprocessing import StandardScaler\n",
    "from sklearn.metrics import mean_squared_error\n",
    "from sklearn import linear_model\n",
    "from sklearn.preprocessing import StandardScaler\n",
    "from sklearn.model_selection import GridSearchCV\n",
    "from sklearn.model_selection import KFold"
   ]
  },
  {
   "cell_type": "markdown",
   "metadata": {},
   "source": [
    "(a)"
   ]
  },
  {
   "cell_type": "code",
   "execution_count": 2,
   "metadata": {
    "execution": {
     "iopub.execute_input": "2021-11-16T03:46:45.932013Z",
     "iopub.status.busy": "2021-11-16T03:46:45.931309Z",
     "iopub.status.idle": "2021-11-16T03:46:45.953216Z",
     "shell.execute_reply": "2021-11-16T03:46:45.952377Z",
     "shell.execute_reply.started": "2021-11-16T03:46:45.931969Z"
    }
   },
   "outputs": [
    {
     "data": {
      "text/html": [
       "<div>\n",
       "<style scoped>\n",
       "    .dataframe tbody tr th:only-of-type {\n",
       "        vertical-align: middle;\n",
       "    }\n",
       "\n",
       "    .dataframe tbody tr th {\n",
       "        vertical-align: top;\n",
       "    }\n",
       "\n",
       "    .dataframe thead th {\n",
       "        text-align: right;\n",
       "    }\n",
       "</style>\n",
       "<table border=\"1\" class=\"dataframe\">\n",
       "  <thead>\n",
       "    <tr style=\"text-align: right;\">\n",
       "      <th></th>\n",
       "      <th>mpg</th>\n",
       "      <th>cylinders</th>\n",
       "      <th>displacement</th>\n",
       "      <th>horsepower</th>\n",
       "      <th>weight</th>\n",
       "      <th>acceleration</th>\n",
       "      <th>model year</th>\n",
       "      <th>origin</th>\n",
       "      <th>car name</th>\n",
       "    </tr>\n",
       "  </thead>\n",
       "  <tbody>\n",
       "    <tr>\n",
       "      <th>0</th>\n",
       "      <td>18.0</td>\n",
       "      <td>8</td>\n",
       "      <td>307.0</td>\n",
       "      <td>130</td>\n",
       "      <td>3504</td>\n",
       "      <td>12.0</td>\n",
       "      <td>70</td>\n",
       "      <td>1</td>\n",
       "      <td>chevrolet chevelle malibu</td>\n",
       "    </tr>\n",
       "    <tr>\n",
       "      <th>1</th>\n",
       "      <td>15.0</td>\n",
       "      <td>8</td>\n",
       "      <td>350.0</td>\n",
       "      <td>165</td>\n",
       "      <td>3693</td>\n",
       "      <td>11.5</td>\n",
       "      <td>70</td>\n",
       "      <td>1</td>\n",
       "      <td>buick skylark 320</td>\n",
       "    </tr>\n",
       "    <tr>\n",
       "      <th>2</th>\n",
       "      <td>18.0</td>\n",
       "      <td>8</td>\n",
       "      <td>318.0</td>\n",
       "      <td>150</td>\n",
       "      <td>3436</td>\n",
       "      <td>11.0</td>\n",
       "      <td>70</td>\n",
       "      <td>1</td>\n",
       "      <td>plymouth satellite</td>\n",
       "    </tr>\n",
       "    <tr>\n",
       "      <th>3</th>\n",
       "      <td>16.0</td>\n",
       "      <td>8</td>\n",
       "      <td>304.0</td>\n",
       "      <td>150</td>\n",
       "      <td>3433</td>\n",
       "      <td>12.0</td>\n",
       "      <td>70</td>\n",
       "      <td>1</td>\n",
       "      <td>amc rebel sst</td>\n",
       "    </tr>\n",
       "    <tr>\n",
       "      <th>4</th>\n",
       "      <td>17.0</td>\n",
       "      <td>8</td>\n",
       "      <td>302.0</td>\n",
       "      <td>140</td>\n",
       "      <td>3449</td>\n",
       "      <td>10.5</td>\n",
       "      <td>70</td>\n",
       "      <td>1</td>\n",
       "      <td>ford torino</td>\n",
       "    </tr>\n",
       "  </tbody>\n",
       "</table>\n",
       "</div>"
      ],
      "text/plain": [
       "    mpg  cylinders  displacement horsepower  weight  acceleration  model year  \\\n",
       "0  18.0          8         307.0        130    3504          12.0          70   \n",
       "1  15.0          8         350.0        165    3693          11.5          70   \n",
       "2  18.0          8         318.0        150    3436          11.0          70   \n",
       "3  16.0          8         304.0        150    3433          12.0          70   \n",
       "4  17.0          8         302.0        140    3449          10.5          70   \n",
       "\n",
       "   origin                   car name  \n",
       "0       1  chevrolet chevelle malibu  \n",
       "1       1          buick skylark 320  \n",
       "2       1         plymouth satellite  \n",
       "3       1              amc rebel sst  \n",
       "4       1                ford torino  "
      ]
     },
     "execution_count": 2,
     "metadata": {},
     "output_type": "execute_result"
    }
   ],
   "source": [
    "hw_regression = pd.read_csv(\"../datasets/auto-mpg.csv\")\n",
    "hw_regression.head()"
   ]
  },
  {
   "cell_type": "code",
   "execution_count": 3,
   "metadata": {
    "execution": {
     "iopub.execute_input": "2021-11-16T03:46:45.955882Z",
     "iopub.status.busy": "2021-11-16T03:46:45.954984Z",
     "iopub.status.idle": "2021-11-16T03:46:45.963142Z",
     "shell.execute_reply": "2021-11-16T03:46:45.962489Z",
     "shell.execute_reply.started": "2021-11-16T03:46:45.955822Z"
    }
   },
   "outputs": [
    {
     "data": {
      "text/plain": [
       "dtype('O')"
      ]
     },
     "execution_count": 3,
     "metadata": {},
     "output_type": "execute_result"
    }
   ],
   "source": [
    "hw_regression['horsepower'].dtype"
   ]
  },
  {
   "cell_type": "code",
   "execution_count": 4,
   "metadata": {
    "execution": {
     "iopub.execute_input": "2021-11-16T03:46:45.965919Z",
     "iopub.status.busy": "2021-11-16T03:46:45.965585Z",
     "iopub.status.idle": "2021-11-16T03:46:45.988255Z",
     "shell.execute_reply": "2021-11-16T03:46:45.987385Z",
     "shell.execute_reply.started": "2021-11-16T03:46:45.965888Z"
    }
   },
   "outputs": [
    {
     "name": "stdout",
     "output_type": "stream",
     "text": [
      "<class 'pandas.core.frame.DataFrame'>\n",
      "RangeIndex: 398 entries, 0 to 397\n",
      "Data columns (total 9 columns):\n",
      " #   Column        Non-Null Count  Dtype  \n",
      "---  ------        --------------  -----  \n",
      " 0   mpg           398 non-null    float64\n",
      " 1   cylinders     398 non-null    int64  \n",
      " 2   displacement  398 non-null    float64\n",
      " 3   horsepower    398 non-null    object \n",
      " 4   weight        398 non-null    int64  \n",
      " 5   acceleration  398 non-null    float64\n",
      " 6   model year    398 non-null    int64  \n",
      " 7   origin        398 non-null    int64  \n",
      " 8   car name      398 non-null    object \n",
      "dtypes: float64(3), int64(4), object(2)\n",
      "memory usage: 28.1+ KB\n"
     ]
    }
   ],
   "source": [
    "hw_regression.info()"
   ]
  },
  {
   "cell_type": "code",
   "execution_count": 5,
   "metadata": {
    "execution": {
     "iopub.execute_input": "2021-11-16T03:46:45.991350Z",
     "iopub.status.busy": "2021-11-16T03:46:45.990968Z",
     "iopub.status.idle": "2021-11-16T03:46:45.998470Z",
     "shell.execute_reply": "2021-11-16T03:46:45.997443Z",
     "shell.execute_reply.started": "2021-11-16T03:46:45.991281Z"
    }
   },
   "outputs": [],
   "source": [
    "hw_regression['horsepower'] = hw_regression['horsepower'].replace(to_replace ='?',value ='0')\n"
   ]
  },
  {
   "cell_type": "code",
   "execution_count": 6,
   "metadata": {
    "execution": {
     "iopub.execute_input": "2021-11-16T03:46:46.000026Z",
     "iopub.status.busy": "2021-11-16T03:46:45.999790Z",
     "iopub.status.idle": "2021-11-16T03:46:46.016582Z",
     "shell.execute_reply": "2021-11-16T03:46:46.015698Z",
     "shell.execute_reply.started": "2021-11-16T03:46:45.999999Z"
    }
   },
   "outputs": [
    {
     "data": {
      "text/plain": [
       "dtype('int64')"
      ]
     },
     "execution_count": 6,
     "metadata": {},
     "output_type": "execute_result"
    }
   ],
   "source": [
    "hw_regression['horsepower'] = hw_regression['horsepower'].astype(str).astype(int)\n",
    "hw_regression['horsepower'].dtype"
   ]
  },
  {
   "cell_type": "code",
   "execution_count": 7,
   "metadata": {
    "execution": {
     "iopub.execute_input": "2021-11-16T03:46:46.018018Z",
     "iopub.status.busy": "2021-11-16T03:46:46.017780Z",
     "iopub.status.idle": "2021-11-16T03:46:46.041678Z",
     "shell.execute_reply": "2021-11-16T03:46:46.040356Z",
     "shell.execute_reply.started": "2021-11-16T03:46:46.017989Z"
    }
   },
   "outputs": [
    {
     "data": {
      "text/html": [
       "<div>\n",
       "<style scoped>\n",
       "    .dataframe tbody tr th:only-of-type {\n",
       "        vertical-align: middle;\n",
       "    }\n",
       "\n",
       "    .dataframe tbody tr th {\n",
       "        vertical-align: top;\n",
       "    }\n",
       "\n",
       "    .dataframe thead th {\n",
       "        text-align: right;\n",
       "    }\n",
       "</style>\n",
       "<table border=\"1\" class=\"dataframe\">\n",
       "  <thead>\n",
       "    <tr style=\"text-align: right;\">\n",
       "      <th></th>\n",
       "      <th>mpg</th>\n",
       "      <th>cylinders</th>\n",
       "      <th>displacement</th>\n",
       "      <th>horsepower</th>\n",
       "      <th>weight</th>\n",
       "      <th>acceleration</th>\n",
       "      <th>model year</th>\n",
       "      <th>origin</th>\n",
       "      <th>car name</th>\n",
       "    </tr>\n",
       "  </thead>\n",
       "  <tbody>\n",
       "    <tr>\n",
       "      <th>0</th>\n",
       "      <td>18.0</td>\n",
       "      <td>8</td>\n",
       "      <td>307.0</td>\n",
       "      <td>130</td>\n",
       "      <td>3504</td>\n",
       "      <td>12.0</td>\n",
       "      <td>70</td>\n",
       "      <td>1</td>\n",
       "      <td>chevrolet chevelle malibu</td>\n",
       "    </tr>\n",
       "    <tr>\n",
       "      <th>1</th>\n",
       "      <td>15.0</td>\n",
       "      <td>8</td>\n",
       "      <td>350.0</td>\n",
       "      <td>165</td>\n",
       "      <td>3693</td>\n",
       "      <td>11.5</td>\n",
       "      <td>70</td>\n",
       "      <td>1</td>\n",
       "      <td>buick skylark 320</td>\n",
       "    </tr>\n",
       "    <tr>\n",
       "      <th>2</th>\n",
       "      <td>18.0</td>\n",
       "      <td>8</td>\n",
       "      <td>318.0</td>\n",
       "      <td>150</td>\n",
       "      <td>3436</td>\n",
       "      <td>11.0</td>\n",
       "      <td>70</td>\n",
       "      <td>1</td>\n",
       "      <td>plymouth satellite</td>\n",
       "    </tr>\n",
       "    <tr>\n",
       "      <th>3</th>\n",
       "      <td>16.0</td>\n",
       "      <td>8</td>\n",
       "      <td>304.0</td>\n",
       "      <td>150</td>\n",
       "      <td>3433</td>\n",
       "      <td>12.0</td>\n",
       "      <td>70</td>\n",
       "      <td>1</td>\n",
       "      <td>amc rebel sst</td>\n",
       "    </tr>\n",
       "    <tr>\n",
       "      <th>4</th>\n",
       "      <td>17.0</td>\n",
       "      <td>8</td>\n",
       "      <td>302.0</td>\n",
       "      <td>140</td>\n",
       "      <td>3449</td>\n",
       "      <td>10.5</td>\n",
       "      <td>70</td>\n",
       "      <td>1</td>\n",
       "      <td>ford torino</td>\n",
       "    </tr>\n",
       "  </tbody>\n",
       "</table>\n",
       "</div>"
      ],
      "text/plain": [
       "    mpg  cylinders  displacement  horsepower  weight  acceleration  \\\n",
       "0  18.0          8         307.0         130    3504          12.0   \n",
       "1  15.0          8         350.0         165    3693          11.5   \n",
       "2  18.0          8         318.0         150    3436          11.0   \n",
       "3  16.0          8         304.0         150    3433          12.0   \n",
       "4  17.0          8         302.0         140    3449          10.5   \n",
       "\n",
       "   model year  origin                   car name  \n",
       "0          70       1  chevrolet chevelle malibu  \n",
       "1          70       1          buick skylark 320  \n",
       "2          70       1         plymouth satellite  \n",
       "3          70       1              amc rebel sst  \n",
       "4          70       1                ford torino  "
      ]
     },
     "execution_count": 7,
     "metadata": {},
     "output_type": "execute_result"
    }
   ],
   "source": [
    "hw_regression.head()"
   ]
  },
  {
   "cell_type": "code",
   "execution_count": 8,
   "metadata": {
    "execution": {
     "iopub.execute_input": "2021-11-16T03:46:46.043415Z",
     "iopub.status.busy": "2021-11-16T03:46:46.043016Z",
     "iopub.status.idle": "2021-11-16T03:46:46.057983Z",
     "shell.execute_reply": "2021-11-16T03:46:46.057363Z",
     "shell.execute_reply.started": "2021-11-16T03:46:46.043373Z"
    }
   },
   "outputs": [
    {
     "data": {
      "text/plain": [
       "array([[ 1.49819126,  1.0906037 ,  0.67394962, ..., -1.29549834,\n",
       "        -1.62742629, -0.71514478],\n",
       "       [ 1.49819126,  1.5035143 ,  1.54418676, ..., -1.47703779,\n",
       "        -1.62742629, -0.71514478],\n",
       "       [ 1.49819126,  1.19623199,  1.17122799, ..., -1.65857724,\n",
       "        -1.62742629, -0.71514478],\n",
       "       ...,\n",
       "       [-0.85632057, -0.56103873, -0.46979062, ..., -1.4407299 ,\n",
       "         1.62198339, -0.71514478],\n",
       "       [-0.85632057, -0.70507731, -0.59411021, ...,  1.10082237,\n",
       "         1.62198339, -0.71514478],\n",
       "       [-0.85632057, -0.71467988, -0.51951845, ...,  1.39128549,\n",
       "         1.62198339, -0.71514478]])"
      ]
     },
     "execution_count": 8,
     "metadata": {},
     "output_type": "execute_result"
    }
   ],
   "source": [
    "y = hw_regression['mpg']\n",
    "X = hw_regression.drop(['car name','mpg'], axis = 1)\n",
    "\n",
    "scaler = StandardScaler()\n",
    "X_standardised = scaler.fit_transform(X)\n",
    "X_train , X_test , y_train, y_test = train_test_split(X_standardised, y,\n",
    "                                                     train_size = 0.667,random_state = 42)\n",
    "\n",
    "X_standardised"
   ]
  },
  {
   "cell_type": "code",
   "execution_count": 9,
   "metadata": {
    "execution": {
     "iopub.execute_input": "2021-11-16T03:46:46.059591Z",
     "iopub.status.busy": "2021-11-16T03:46:46.059130Z",
     "iopub.status.idle": "2021-11-16T03:46:46.066364Z",
     "shell.execute_reply": "2021-11-16T03:46:46.065516Z",
     "shell.execute_reply.started": "2021-11-16T03:46:46.059553Z"
    }
   },
   "outputs": [],
   "source": [
    "model = LinearRegression()\n",
    "model.fit(X_train, y_train)\n",
    "y_pred = model.predict(X_test)"
   ]
  },
  {
   "cell_type": "markdown",
   "metadata": {},
   "source": [
    "(b)"
   ]
  },
  {
   "cell_type": "code",
   "execution_count": 10,
   "metadata": {
    "execution": {
     "iopub.execute_input": "2021-11-16T03:46:46.068349Z",
     "iopub.status.busy": "2021-11-16T03:46:46.067940Z",
     "iopub.status.idle": "2021-11-16T03:46:46.078198Z",
     "shell.execute_reply": "2021-11-16T03:46:46.077091Z",
     "shell.execute_reply.started": "2021-11-16T03:46:46.068308Z"
    }
   },
   "outputs": [
    {
     "name": "stdout",
     "output_type": "stream",
     "text": [
      "   cylinders :  0.03\n",
      "displacement :  0.70\n",
      "  horsepower : -0.32\n",
      "      weight : -5.34\n",
      "acceleration :  0.25\n",
      "  model year :  2.88\n",
      "      origin :  1.18\n"
     ]
    }
   ],
   "source": [
    "for name,coefficient in zip(X.columns, model.coef_):\n",
    "    print('{:>12} : {:>5.2f}'.format(name, coefficient))"
   ]
  },
  {
   "cell_type": "markdown",
   "metadata": {},
   "source": [
    "The coefficient for 'model year' is the highest and the dominant feature."
   ]
  },
  {
   "cell_type": "code",
   "execution_count": 11,
   "metadata": {
    "execution": {
     "iopub.execute_input": "2021-11-16T03:46:46.081826Z",
     "iopub.status.busy": "2021-11-16T03:46:46.081537Z",
     "iopub.status.idle": "2021-11-16T03:46:46.091605Z",
     "shell.execute_reply": "2021-11-16T03:46:46.090780Z",
     "shell.execute_reply.started": "2021-11-16T03:46:46.081796Z"
    }
   },
   "outputs": [
    {
     "name": "stdout",
     "output_type": "stream",
     "text": [
      "[ 0.02575576  0.69548504 -0.31987075 -5.33525957  0.25320403  2.88057601\n",
      "  1.17585514]\n",
      "Mean Square Error = 9.153325912213072\n"
     ]
    }
   ],
   "source": [
    "print(model.coef_)\n",
    "mse = mean_squared_error(y_test,y_pred)\n",
    "print('Mean Square Error =',mse)"
   ]
  },
  {
   "cell_type": "markdown",
   "metadata": {},
   "source": [
    "(c)"
   ]
  },
  {
   "cell_type": "code",
   "execution_count": 12,
   "metadata": {
    "execution": {
     "iopub.execute_input": "2021-11-16T03:46:46.093549Z",
     "iopub.status.busy": "2021-11-16T03:46:46.093077Z",
     "iopub.status.idle": "2021-11-16T03:46:56.680830Z",
     "shell.execute_reply": "2021-11-16T03:46:56.679939Z",
     "shell.execute_reply.started": "2021-11-16T03:46:46.093508Z"
    }
   },
   "outputs": [
    {
     "name": "stdout",
     "output_type": "stream",
     "text": [
      "best alpha from RidgeCV: 1.622595287078087, score 0.8054357156178443\n",
      "best alpha from GridSearchCV: [1.62259529]\n"
     ]
    }
   ],
   "source": [
    "# alphas = np.logspace(-6, 6, 13)\n",
    "alphas = np.logspace(-10, 10, 1000)\n",
    "\n",
    "one = linear_model.RidgeCV(alphas=alphas, cv=3)\n",
    "result = one.fit(X_train, y_train)\n",
    "print(f\"best alpha from RidgeCV: {one.alpha_}, score {one.score(X_train, y_train)}\")\n",
    "parameters = {'alpha':alphas}\n",
    "models = GridSearchCV(linear_model.Ridge(), parameters, cv=KFold(n_splits=3))\n",
    "models.fit(X_train, y_train)\n",
    "rts = models.cv_results_['rank_test_score']\n",
    "print(f\"best alpha from GridSearchCV: {alphas[np.where(rts==1)]}\")\n"
   ]
  },
  {
   "cell_type": "code",
   "execution_count": 13,
   "metadata": {
    "execution": {
     "iopub.execute_input": "2021-11-16T03:46:56.682631Z",
     "iopub.status.busy": "2021-11-16T03:46:56.682379Z",
     "iopub.status.idle": "2021-11-16T03:47:01.900105Z",
     "shell.execute_reply": "2021-11-16T03:47:01.899076Z",
     "shell.execute_reply.started": "2021-11-16T03:46:56.682599Z"
    }
   },
   "outputs": [
    {
     "name": "stdout",
     "output_type": "stream",
     "text": [
      "best alpha from LassoCV: 1.622595287078087, score 0.8054357156178443\n"
     ]
    }
   ],
   "source": [
    "alphas = np.logspace(-6, 6, 13)\n",
    "\n",
    "two = linear_model.LassoCV(alphas=alphas)\n",
    "result = one.fit(X_train, y_train)\n",
    "print(f\"best alpha from LassoCV: {one.alpha_}, score {one.score(X_train, y_train)}\")\n",
    "parameters = {'alpha':alphas}\n",
    "models = linear_model.Lasso(alpha = one.alpha_)\n",
    "models.fit(X_train, y_train)\n",
    "y_pred = models.predict(X_test)"
   ]
  },
  {
   "cell_type": "code",
   "execution_count": 14,
   "metadata": {
    "execution": {
     "iopub.execute_input": "2021-11-16T03:47:01.902215Z",
     "iopub.status.busy": "2021-11-16T03:47:01.901894Z",
     "iopub.status.idle": "2021-11-16T03:47:02.948658Z",
     "shell.execute_reply": "2021-11-16T03:47:02.947701Z",
     "shell.execute_reply.started": "2021-11-16T03:47:01.902172Z"
    }
   },
   "outputs": [
    {
     "data": {
      "text/plain": [
       "Text(0, 0.5, 'coefficient')"
      ]
     },
     "execution_count": 14,
     "metadata": {},
     "output_type": "execute_result"
    },
    {
     "data": {
      "image/png": "[encoded data removed]",
      "text/plain": [
       "<Figure size 432x288 with 1 Axes>"
      ]
     },
     "metadata": {
      "needs_background": "light"
     },
     "output_type": "display_data"
    }
   ],
   "source": [
    "ridge = linear_model.Ridge()\n",
    "coef = []\n",
    "alphas = np.logspace(-10, 10, 1000)\n",
    "for a in alphas:\n",
    "    ridge.set_params(alpha = a)\n",
    "    ridge.fit(X_train, y_train)\n",
    "    coef.append(ridge.coef_)\n",
    "    \n",
    "ax = plt.gca()\n",
    "ax.plot(alphas, coef)\n",
    "ax.set_xscale('log')\n",
    "plt.axis('tight')\n",
    "plt.xlabel('alpha')\n",
    "plt.ylabel('coefficient')"
   ]
  },
  {
   "cell_type": "code",
   "execution_count": 15,
   "metadata": {
    "execution": {
     "iopub.execute_input": "2021-11-16T03:47:02.950588Z",
     "iopub.status.busy": "2021-11-16T03:47:02.950156Z",
     "iopub.status.idle": "2021-11-16T03:47:04.200869Z",
     "shell.execute_reply": "2021-11-16T03:47:04.199885Z",
     "shell.execute_reply.started": "2021-11-16T03:47:02.950548Z"
    }
   },
   "outputs": [
    {
     "data": {
      "text/plain": [
       "Text(0, 0.5, 'coefficient')"
      ]
     },
     "execution_count": 15,
     "metadata": {},
     "output_type": "execute_result"
    },
    {
     "data": {
      "image/png": "[encoded data removed]",
      "text/plain": [
       "<Figure size 432x288 with 1 Axes>"
      ]
     },
     "metadata": {
      "needs_background": "light"
     },
     "output_type": "display_data"
    }
   ],
   "source": [
    "lasso = linear_model.Lasso()\n",
    "coef = []\n",
    "alphas = np.logspace(-10, 10, 1000)\n",
    "for a in alphas:\n",
    "    lasso.set_params(alpha = a)\n",
    "    lasso.fit(X_train, y_train)\n",
    "    coef.append(lasso.coef_)\n",
    "    \n",
    "ax = plt.gca()\n",
    "ax.plot(alphas, coef)\n",
    "ax.set_xscale('log')\n",
    "plt.axis('tight')\n",
    "plt.xlabel('alpha')\n",
    "plt.ylabel('coefficient')"
   ]
  },
  {
   "cell_type": "code",
   "execution_count": 16,
   "metadata": {
    "execution": {
     "iopub.execute_input": "2021-11-16T03:47:04.202575Z",
     "iopub.status.busy": "2021-11-16T03:47:04.202308Z",
     "iopub.status.idle": "2021-11-16T03:47:04.209472Z",
     "shell.execute_reply": "2021-11-16T03:47:04.208758Z",
     "shell.execute_reply.started": "2021-11-16T03:47:04.202541Z"
    }
   },
   "outputs": [],
   "source": [
    "ridgeX = linear_model.Ridge(alpha = -6.5)\n",
    "ridgeX.fit(X_train, y_train)\n",
    "y_pred = ridgeX.predict(X_test)"
   ]
  },
  {
   "cell_type": "code",
   "execution_count": 17,
   "metadata": {
    "execution": {
     "iopub.execute_input": "2021-11-16T03:47:04.210938Z",
     "iopub.status.busy": "2021-11-16T03:47:04.210603Z",
     "iopub.status.idle": "2021-11-16T03:47:04.223135Z",
     "shell.execute_reply": "2021-11-16T03:47:04.222393Z",
     "shell.execute_reply.started": "2021-11-16T03:47:04.210908Z"
    }
   },
   "outputs": [
    {
     "name": "stdout",
     "output_type": "stream",
     "text": [
      "Mean Square Error = 8.728135730388175\n"
     ]
    }
   ],
   "source": [
    "mse = mean_squared_error(y_test,y_pred)\n",
    "print('Mean Square Error =',mse)"
   ]
  },
  {
   "cell_type": "markdown",
   "metadata": {},
   "source": [
    "By hit and trial we got alpha value as -6.5, which produces the lowest value of Mean Squared Error."
   ]
  },
  {
   "cell_type": "code",
   "execution_count": 18,
   "metadata": {
    "execution": {
     "iopub.execute_input": "2021-11-16T03:47:04.226056Z",
     "iopub.status.busy": "2021-11-16T03:47:04.224837Z",
     "iopub.status.idle": "2021-11-16T03:47:04.236033Z",
     "shell.execute_reply": "2021-11-16T03:47:04.235078Z",
     "shell.execute_reply.started": "2021-11-16T03:47:04.226005Z"
    }
   },
   "outputs": [
    {
     "name": "stdout",
     "output_type": "stream",
     "text": [
      "   cylinders : -1.49\n",
      "displacement :  5.00\n",
      "  horsepower : -0.04\n",
      "      weight : -7.93\n",
      "acceleration :  0.84\n",
      "  model year :  3.11\n",
      "      origin :  1.46\n"
     ]
    }
   ],
   "source": [
    "for name,coefficient in zip(X.columns, ridgeX.coef_):\n",
    "    print('{:>12} : {:>5.2f}'.format(name, coefficient))"
   ]
  },
  {
   "cell_type": "markdown",
   "metadata": {},
   "source": [
    "Ridge increases the significance of the attributes."
   ]
  },
  {
   "cell_type": "code",
   "execution_count": 19,
   "metadata": {
    "execution": {
     "iopub.execute_input": "2021-11-16T03:47:04.238187Z",
     "iopub.status.busy": "2021-11-16T03:47:04.237681Z",
     "iopub.status.idle": "2021-11-16T03:47:04.249876Z",
     "shell.execute_reply": "2021-11-16T03:47:04.249105Z",
     "shell.execute_reply.started": "2021-11-16T03:47:04.238150Z"
    }
   },
   "outputs": [],
   "source": [
    "lassoX = linear_model.Lasso(alpha = 0.4)\n",
    "lassoX.fit(X_train, y_train)\n",
    "y_pred = lassoX.predict(X_test)"
   ]
  },
  {
   "cell_type": "code",
   "execution_count": 20,
   "metadata": {
    "execution": {
     "iopub.execute_input": "2021-11-16T03:47:04.251616Z",
     "iopub.status.busy": "2021-11-16T03:47:04.251351Z",
     "iopub.status.idle": "2021-11-16T03:47:04.261666Z",
     "shell.execute_reply": "2021-11-16T03:47:04.260680Z",
     "shell.execute_reply.started": "2021-11-16T03:47:04.251585Z"
    }
   },
   "outputs": [
    {
     "name": "stdout",
     "output_type": "stream",
     "text": [
      "   cylinders : -0.00\n",
      "displacement : -0.00\n",
      "  horsepower : -0.25\n",
      "      weight : -4.72\n",
      "acceleration :  0.00\n",
      "  model year :  2.54\n",
      "      origin :  0.81\n"
     ]
    }
   ],
   "source": [
    "for name,coefficient in zip(X.columns, lassoX.coef_):\n",
    "    print('{:>12} : {:>5.2f}'.format(name, coefficient))"
   ]
  },
  {
   "cell_type": "code",
   "execution_count": 21,
   "metadata": {
    "execution": {
     "iopub.execute_input": "2021-11-16T03:47:04.263556Z",
     "iopub.status.busy": "2021-11-16T03:47:04.263286Z",
     "iopub.status.idle": "2021-11-16T03:47:04.275128Z",
     "shell.execute_reply": "2021-11-16T03:47:04.274381Z",
     "shell.execute_reply.started": "2021-11-16T03:47:04.263526Z"
    }
   },
   "outputs": [
    {
     "name": "stdout",
     "output_type": "stream",
     "text": [
      "Mean Square Error = 9.137237885400307\n"
     ]
    }
   ],
   "source": [
    "mse = mean_squared_error(y_test,y_pred)\n",
    "print('Mean Square Error =',mse)"
   ]
  },
  {
   "cell_type": "markdown",
   "metadata": {},
   "source": [
    "Even though Lasso produces relatively higher mean squared error, it has reduced the significance / importance of the attributes."
   ]
  },
  {
   "cell_type": "markdown",
   "metadata": {},
   "source": [
    "Conclusions:"
   ]
  },
  {
   "cell_type": "markdown",
   "metadata": {},
   "source": [
    "* For Ordinary Linear Regression,\n",
    "    Mean Squared Error = 9.153, Coefficient of model year = 2.88\n",
    "    "
   ]
  },
  {
   "cell_type": "markdown",
   "metadata": {},
   "source": [
    "* For Ridge Regression,\n",
    "    Mean Squared Error = 8.728, Coefficient of model year = 3.11"
   ]
  },
  {
   "cell_type": "markdown",
   "metadata": {},
   "source": [
    "* For Lasso Regression,\n",
    "    Mean Squared Error = 9.173, Coefficient of model year = 2.54"
   ]
  },
  {
   "cell_type": "markdown",
   "metadata": {},
   "source": [
    "* Lasso Regression produces the highest value of MSE and has reduced the coefficient of model year when compared to Ordinary Linear Regression and Rigde Regression."
   ]
  },
  {
   "cell_type": "markdown",
   "metadata": {},
   "source": [
    "* Ridge Regression produces the maximum value of coefficient of model year."
   ]
  }
 ],
 "metadata": {
  "kernelspec": {
   "display_name": "Python 3",
   "language": "python",
   "name": "python3"
  },
  "language_info": {
   "codemirror_mode": {
    "name": "ipython",
    "version": 3
   },
   "file_extension": ".py",
   "mimetype": "text/x-python",
   "name": "python",
   "nbconvert_exporter": "python",
   "pygments_lexer": "ipython3",
   "version": "3.8.8"
  }
 },
 "nbformat": 4,
 "nbformat_minor": 4
}
